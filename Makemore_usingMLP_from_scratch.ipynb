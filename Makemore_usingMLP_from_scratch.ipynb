{
  "cells": [
    {
      "cell_type": "markdown",
      "metadata": {
        "id": "view-in-github",
        "colab_type": "text"
      },
      "source": [
        "<a href=\"https://colab.research.google.com/github/abs711/makemore/blob/master/Makemore_usingMLP_from_scratch.ipynb\" target=\"_parent\"><img src=\"https://colab.research.google.com/assets/colab-badge.svg\" alt=\"Open In Colab\"/></a>"
      ]
    },
    {
      "cell_type": "markdown",
      "id": "4ab1ea53",
      "metadata": {
        "id": "4ab1ea53"
      },
      "source": [
        "# Makemore using a Multi-layer Perceptron"
      ]
    },
    {
      "cell_type": "code",
      "execution_count": 35,
      "id": "548064c8",
      "metadata": {
        "id": "548064c8"
      },
      "outputs": [],
      "source": [
        "import random\n",
        "import torch\n",
        "import torch.nn.functional as F\n",
        "import matplotlib.pyplot as plt\n",
        "%matplotlib inline"
      ]
    },
    {
      "cell_type": "code",
      "source": [
        "from google.colab import drive\n",
        "drive.mount('/content/drive')"
      ],
      "metadata": {
        "colab": {
          "base_uri": "https://localhost:8080/"
        },
        "id": "CT04v0_nprlm",
        "outputId": "7291fa98-cef4-4e77-b69b-17112271f884"
      },
      "id": "CT04v0_nprlm",
      "execution_count": 36,
      "outputs": [
        {
          "output_type": "stream",
          "name": "stdout",
          "text": [
            "Drive already mounted at /content/drive; to attempt to forcibly remount, call drive.mount(\"/content/drive\", force_remount=True).\n"
          ]
        }
      ]
    },
    {
      "cell_type": "code",
      "execution_count": 37,
      "id": "d66124da",
      "metadata": {
        "colab": {
          "base_uri": "https://localhost:8080/"
        },
        "id": "d66124da",
        "outputId": "f61108f6-b60f-455c-a9e5-608be19775b9"
      },
      "outputs": [
        {
          "output_type": "execute_result",
          "data": {
            "text/plain": [
              "['emma', 'olivia', 'ava', 'isabella', 'sophia', 'charlotte', 'mia', 'amelia']"
            ]
          },
          "metadata": {},
          "execution_count": 37
        }
      ],
      "source": [
        "path = '/content/drive/MyDrive/build_makemore/'\n",
        "words = open(path+'names.txt','r').read().splitlines()\n",
        "words[:8]"
      ]
    },
    {
      "cell_type": "code",
      "execution_count": 38,
      "id": "70e7ff4c",
      "metadata": {
        "colab": {
          "base_uri": "https://localhost:8080/"
        },
        "id": "70e7ff4c",
        "outputId": "ed06e062-8abd-4f04-e07e-f814fbdbfe7e"
      },
      "outputs": [
        {
          "output_type": "execute_result",
          "data": {
            "text/plain": [
              "32033"
            ]
          },
          "metadata": {},
          "execution_count": 38
        }
      ],
      "source": [
        "len(words)"
      ]
    },
    {
      "cell_type": "code",
      "execution_count": 39,
      "id": "18ae846b",
      "metadata": {
        "id": "18ae846b"
      },
      "outputs": [],
      "source": [
        "chars = sorted(list(set(''.join(words)))) # Get all the characters\n",
        "stoi = {s:i+1 for i,s in enumerate(chars)} #string to integer\n",
        "stoi['.'] = 0\n",
        "itos = {i:s for s,i in stoi.items()}\n"
      ]
    },
    {
      "cell_type": "code",
      "execution_count": 135,
      "id": "15a0b819",
      "metadata": {
        "colab": {
          "base_uri": "https://localhost:8080/"
        },
        "id": "15a0b819",
        "outputId": "1b1cfea1-30ca-4555-a3d6-9042aedbf9a4"
      },
      "outputs": [
        {
          "output_type": "execute_result",
          "data": {
            "text/plain": [
              "(torch.Size([182484, 3]), torch.int64, torch.Size([182484]), torch.int64)"
            ]
          },
          "metadata": {},
          "execution_count": 135
        }
      ],
      "source": [
        "n_dim = 10 #embedding dimensions\n",
        "block_size = 3 # context length i.e. num of character used to predict the next character\n",
        "hu = 300 # num of hidden tanh layer units\n",
        "\n",
        "def build_dataset(words,block_size):\n",
        "  X, Y = [], []\n",
        "\n",
        "  for w in words:#[:5]:\n",
        "  #     print(w + '.')\n",
        "      context = [0]*block_size\n",
        "      for ch in w + '.':\n",
        "          ix = stoi[ch]\n",
        "          X.append(context)\n",
        "          Y.append(ix)\n",
        "  #         print(''.join(itos[i] for i in context), '--->', itos[ix])\n",
        "          context = context[1:] + [ix]\n",
        "\n",
        "\n",
        "  X = torch.tensor(X)\n",
        "  Y = torch.tensor(Y)\n",
        "\n",
        "  return X, Y\n",
        "\n",
        "random.seed(42)\n",
        "random.shuffle(words)\n",
        "\n",
        "ntr = int(0.8*len(words))\n",
        "nval = int(0.9*len(words))\n",
        "\n",
        "Xtr, Ytr = build_dataset(words[:ntr],block_size)\n",
        "Xval, Yval = build_dataset(words[ntr:nval],block_size)\n",
        "Xts, Yts = build_dataset(words[nval:],block_size)\n",
        "\n",
        "\n",
        "Xtr.shape, Xtr.dtype, Ytr.shape, Ytr.dtype"
      ]
    },
    {
      "cell_type": "code",
      "source": [
        "Xval.shape, Xval.dtype, Yval.shape, Yval.dtype"
      ],
      "metadata": {
        "colab": {
          "base_uri": "https://localhost:8080/"
        },
        "id": "FBklaxnQt_m7",
        "outputId": "88f4949c-3747-46cb-ff70-37d90cc9f408"
      },
      "id": "FBklaxnQt_m7",
      "execution_count": 136,
      "outputs": [
        {
          "output_type": "execute_result",
          "data": {
            "text/plain": [
              "(torch.Size([22869, 3]), torch.int64, torch.Size([22869]), torch.int64)"
            ]
          },
          "metadata": {},
          "execution_count": 136
        }
      ]
    },
    {
      "cell_type": "code",
      "source": [
        "Xts.shape, Xts.dtype, Yts.shape, Yts.dtype"
      ],
      "metadata": {
        "colab": {
          "base_uri": "https://localhost:8080/"
        },
        "id": "qCcyL2fuuOGt",
        "outputId": "461dd6c7-6b6f-4d48-db10-b13c1678a255"
      },
      "id": "qCcyL2fuuOGt",
      "execution_count": 137,
      "outputs": [
        {
          "output_type": "execute_result",
          "data": {
            "text/plain": [
              "(torch.Size([22793, 3]), torch.int64, torch.Size([22793]), torch.int64)"
            ]
          },
          "metadata": {},
          "execution_count": 137
        }
      ]
    },
    {
      "cell_type": "code",
      "execution_count": 138,
      "id": "df98c7e5",
      "metadata": {
        "id": "df98c7e5"
      },
      "outputs": [],
      "source": [
        "g = torch.Generator().manual_seed(2147483647)\n",
        "C = torch.randn(27,n_dim,generator=g) # randomized two dimensional embedding for 27 characters"
      ]
    },
    {
      "cell_type": "code",
      "execution_count": 139,
      "id": "b3dbfaaa",
      "metadata": {
        "colab": {
          "base_uri": "https://localhost:8080/"
        },
        "id": "b3dbfaaa",
        "outputId": "b57b659e-fecb-4f2d-ca4e-20364612805c"
      },
      "outputs": [
        {
          "output_type": "execute_result",
          "data": {
            "text/plain": [
              "torch.Size([182484, 3, 10])"
            ]
          },
          "metadata": {},
          "execution_count": 139
        }
      ],
      "source": [
        "# C[5] or equivalently F.one_hot(torch.tensor(5), num_classes=27).float() @ C\n",
        "# C[[5,6,7]] = C[torch.tensor([5,6,7])] #torch.tensor vs torch.Tensor\n",
        "#C[X].shape = torch.Size([32, 3, 2])\n",
        "# X[13,2] = 1 => C[X][13,2] = C[1]\n",
        "emb = C[Xtr]\n",
        "emb.shape"
      ]
    },
    {
      "cell_type": "code",
      "execution_count": 140,
      "id": "78588f5f",
      "metadata": {
        "colab": {
          "base_uri": "https://localhost:8080/"
        },
        "id": "78588f5f",
        "outputId": "c238fa80-5c99-4ff1-a520-523912038640"
      },
      "outputs": [
        {
          "output_type": "execute_result",
          "data": {
            "text/plain": [
              "(torch.Size([30, 300]), torch.Size([300]))"
            ]
          },
          "metadata": {},
          "execution_count": 140
        }
      ],
      "source": [
        "W1 = torch.randn((block_size*n_dim,hu),generator=g)\n",
        "b1 = torch.randn(hu,generator=g)\n",
        "W1.shape, b1.shape\n"
      ]
    },
    {
      "cell_type": "code",
      "execution_count": 141,
      "id": "15c1ebd5",
      "metadata": {
        "colab": {
          "base_uri": "https://localhost:8080/"
        },
        "id": "15c1ebd5",
        "outputId": "0200c492-cbc9-49d5-f40b-4b25842577b8"
      },
      "outputs": [
        {
          "output_type": "execute_result",
          "data": {
            "text/plain": [
              "(torch.Size([300, 27]), torch.Size([27]))"
            ]
          },
          "metadata": {},
          "execution_count": 141
        }
      ],
      "source": [
        "W2 = torch.randn((hu,27),generator=g)\n",
        "b2 = torch.randn(27,generator=g)\n",
        "W2.shape, b2.shape\n"
      ]
    },
    {
      "cell_type": "code",
      "execution_count": 142,
      "id": "ae86b38e",
      "metadata": {
        "colab": {
          "base_uri": "https://localhost:8080/"
        },
        "id": "ae86b38e",
        "outputId": "dd4e7a58-f3d8-42e2-8174-ba5ba1fbee21"
      },
      "outputs": [
        {
          "output_type": "stream",
          "name": "stdout",
          "text": [
            "17697\n"
          ]
        }
      ],
      "source": [
        "parameters = [C, W1, b1, W2, b2]\n",
        "\n",
        "print(sum(p.nelement() for p in parameters))"
      ]
    },
    {
      "cell_type": "code",
      "execution_count": 143,
      "id": "429d49e0",
      "metadata": {
        "id": "429d49e0"
      },
      "outputs": [],
      "source": [
        "for p in parameters:\n",
        "    p.requires_grad = True"
      ]
    },
    {
      "cell_type": "code",
      "source": [
        "def forward_pass(X):\n",
        "  emb = C[X] #[32, 3, 2]\n",
        "  emb = emb.view(-1,block_size*n_dim) #== torch.cat(torch.unbind(emb,1),dim=1) == torch.cat([emb[:,i,:] for i in range(block_size)],dim=1)\n",
        "  h = torch.tanh(emb@W1 + b1) # see below or refer to broadcasting rules\n",
        "    # h.shape\n",
        "    # 32, 100\n",
        "    # 1,  100\n",
        "  logits = h@W2 + b2\n",
        "  return logits\n"
      ],
      "metadata": {
        "id": "_K-KEusdvFOn"
      },
      "id": "_K-KEusdvFOn",
      "execution_count": 144,
      "outputs": []
    },
    {
      "cell_type": "code",
      "execution_count": 145,
      "id": "b3898a26",
      "metadata": {
        "id": "b3898a26"
      },
      "outputs": [],
      "source": [
        "lre = torch.linspace(-3,0,1000)\n",
        "\n",
        "\n",
        "lrs = 10**lre"
      ]
    },
    {
      "cell_type": "code",
      "source": [
        "lri = []\n",
        "lossi = []\n",
        "loss_val = []"
      ],
      "metadata": {
        "id": "5UyQWNK0zMT_"
      },
      "id": "5UyQWNK0zMT_",
      "execution_count": 146,
      "outputs": []
    },
    {
      "cell_type": "code",
      "execution_count": 149,
      "id": "d8293425",
      "metadata": {
        "colab": {
          "base_uri": "https://localhost:8080/"
        },
        "id": "d8293425",
        "outputId": "426d8e45-0eb2-499c-ae51-919080403553"
      },
      "outputs": [
        {
          "output_type": "stream",
          "name": "stdout",
          "text": [
            "epc: 0 loss: 5.561980724334717\n",
            "epc: 100 loss: 2.7163684368133545\n",
            "epc: 200 loss: 3.924960136413574\n",
            "epc: 300 loss: 3.525343418121338\n",
            "epc: 400 loss: 3.102931261062622\n",
            "epc: 500 loss: 2.7950594425201416\n",
            "epc: 600 loss: 3.800408124923706\n",
            "epc: 700 loss: 2.584056854248047\n",
            "epc: 800 loss: 3.7844295501708984\n",
            "epc: 900 loss: 2.304363965988159\n"
          ]
        }
      ],
      "source": [
        "\n",
        "for epc in range(1000):\n",
        "\n",
        "    ix  = torch.randint(0,Xtr.shape[0], (32,)) # minibatch\n",
        "    # emb = C[Xtr[ix]] #[32, 3, 2]\n",
        "    # emb = emb.view(-1,block_size*n_dim) #== torch.cat(torch.unbind(emb,1),dim=1) == torch.cat([emb[:,i,:] for i in range(block_size)],dim=1)\n",
        "    # h = torch.tanh(emb@W1 + b1) # see below or refer to broadcasting rules\n",
        "    # # h.shape\n",
        "    # # 32, 100\n",
        "    # # 1,  100\n",
        "    # logits = h@W2 + b2\n",
        "    # # count = logits.exp()\n",
        "    # # probs = count/count.sum(1, keepdims=True)\n",
        "    # # loss = -probs[torch.arange(32), Y].log().mean()\n",
        "    logits = forward_pass(Xtr[ix])\n",
        "    loss = F.cross_entropy(logits, Ytr[ix]) # Efficient Forward and Backward pass; Also, prevent overflow due to exponentiation of large logits\n",
        "    if epc%100==0:\n",
        "        print('epc:', epc, 'loss:', loss.item())\n",
        "\n",
        "    for p in parameters:\n",
        "        p.grad = None\n",
        "\n",
        "    loss.backward()\n",
        "\n",
        "    lr = 0.01 #lrs[epc]\n",
        "\n",
        "    for p in parameters:\n",
        "        p.data += -lr*p.grad\n",
        "\n",
        "    loss_dev = F.cross_entropy(forward_pass(Xval), Yval)\n",
        "\n",
        "    lri.append(lr)\n",
        "    lossi.append(loss.item())\n",
        "    loss_val.append(loss_dev.item())\n"
      ]
    },
    {
      "cell_type": "code",
      "execution_count": 148,
      "id": "1b8fbc6a",
      "metadata": {
        "colab": {
          "base_uri": "https://localhost:8080/",
          "height": 448
        },
        "id": "1b8fbc6a",
        "outputId": "58202606-dfe0-4597-d953-f90b40911cf6"
      },
      "outputs": [
        {
          "output_type": "stream",
          "name": "stdout",
          "text": [
            "loss_train:  3.2938590049743652 loss_val: 4.471419811248779\n"
          ]
        },
        {
          "output_type": "display_data",
          "data": {
            "text/plain": [
              "<Figure size 640x480 with 1 Axes>"
            ],
            "image/png": "[encoded data removed]"
          },
          "metadata": {}
        }
      ],
      "source": [
        "plt.plot(lossi)\n",
        "plt.plot(loss_val)\n",
        "\n",
        "print(\"loss_train: \",lossi[-1],\"loss_val:\", loss_val[-1])"
      ]
    },
    {
      "cell_type": "code",
      "execution_count": 72,
      "id": "756c0047",
      "metadata": {
        "colab": {
          "base_uri": "https://localhost:8080/"
        },
        "id": "756c0047",
        "outputId": "d2bb61db-f873-4f63-e939-028ebf3e925c"
      },
      "outputs": [
        {
          "output_type": "stream",
          "name": "stdout",
          "text": [
            "loss: 2.3376739025115967\n"
          ]
        }
      ],
      "source": [
        "emb = C[X[ix]] #[32, 3, 2]\n",
        "emb = emb.view(-1,block_size*n_dim)\n",
        "h = torch.tanh(emb@W1 + b1)\n",
        "logits = h@W2 + b2\n",
        "loss = F.cross_entropy(logits, Y[ix])\n",
        "print('loss:', loss.item())\n"
      ]
    },
    {
      "cell_type": "code",
      "execution_count": null,
      "id": "e3829213",
      "metadata": {
        "id": "e3829213",
        "outputId": "06c7d002-6dc6-41ae-9d29-c5d73b405081"
      },
      "outputs": [
        {
          "data": {
            "text/plain": [
              "tensor(17.7697)"
            ]
          },
          "execution_count": 12,
          "metadata": {},
          "output_type": "execute_result"
        }
      ],
      "source": []
    },
    {
      "cell_type": "code",
      "execution_count": null,
      "id": "e5a3e95d",
      "metadata": {
        "id": "e5a3e95d"
      },
      "outputs": [],
      "source": []
    },
    {
      "cell_type": "code",
      "execution_count": null,
      "id": "fd154d9c",
      "metadata": {
        "id": "fd154d9c"
      },
      "outputs": [],
      "source": []
    }
  ],
  "metadata": {
    "kernelspec": {
      "display_name": "Python 3",
      "language": "python",
      "name": "python3"
    },
    "language_info": {
      "codemirror_mode": {
        "name": "ipython",
        "version": 3
      },
      "file_extension": ".py",
      "mimetype": "text/x-python",
      "name": "python",
      "nbconvert_exporter": "python",
      "pygments_lexer": "ipython3",
      "version": "3.7.1"
    },
    "colab": {
      "provenance": [],
      "include_colab_link": true
    }
  },
  "nbformat": 4,
  "nbformat_minor": 5
}