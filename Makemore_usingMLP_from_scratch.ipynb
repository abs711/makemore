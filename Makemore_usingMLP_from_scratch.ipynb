{
  "cells": [
    {
      "cell_type": "markdown",
      "metadata": {
        "id": "view-in-github",
        "colab_type": "text"
      },
      "source": [
        "<a href=\"https://colab.research.google.com/github/abs711/makemore/blob/master/Makemore_usingMLP_from_scratch.ipynb\" target=\"_parent\"><img src=\"https://colab.research.google.com/assets/colab-badge.svg\" alt=\"Open In Colab\"/></a>"
      ]
    },
    {
      "cell_type": "markdown",
      "id": "4ab1ea53",
      "metadata": {
        "id": "4ab1ea53"
      },
      "source": [
        "# Makemore using a Multi-layer Perceptron"
      ]
    },
    {
      "cell_type": "code",
      "execution_count": null,
      "id": "548064c8",
      "metadata": {
        "id": "548064c8"
      },
      "outputs": [],
      "source": [
        "import torch\n",
        "import torch.nn.functional as F\n",
        "import matplotlib.pyplot as plt\n",
        "%matplotlib inline"
      ]
    },
    {
      "cell_type": "code",
      "execution_count": null,
      "id": "d66124da",
      "metadata": {
        "id": "d66124da",
        "outputId": "917a3d54-b308-4b47-9701-9d792b7f98e1"
      },
      "outputs": [
        {
          "data": {
            "text/plain": [
              "['emma', 'olivia', 'ava', 'isabella', 'sophia', 'charlotte', 'mia', 'amelia']"
            ]
          },
          "execution_count": 25,
          "metadata": {},
          "output_type": "execute_result"
        }
      ],
      "source": [
        "words = open('names.txt','r').read().splitlines()\n",
        "words[:8]"
      ]
    },
    {
      "cell_type": "code",
      "execution_count": null,
      "id": "70e7ff4c",
      "metadata": {
        "id": "70e7ff4c",
        "outputId": "8fc0fcd2-0eb4-4ee8-9b37-5897cc7dceca"
      },
      "outputs": [
        {
          "data": {
            "text/plain": [
              "32033"
            ]
          },
          "execution_count": 26,
          "metadata": {},
          "output_type": "execute_result"
        }
      ],
      "source": [
        "len(words)"
      ]
    },
    {
      "cell_type": "code",
      "execution_count": null,
      "id": "18ae846b",
      "metadata": {
        "id": "18ae846b"
      },
      "outputs": [],
      "source": [
        "chars = sorted(list(set(''.join(words)))) # Get all the characters\n",
        "stoi = {s:i+1 for i,s in enumerate(chars)} #string to integer\n",
        "stoi['.'] = 0\n",
        "itos = {i:s for s,i in stoi.items()}\n"
      ]
    },
    {
      "cell_type": "code",
      "execution_count": null,
      "id": "15a0b819",
      "metadata": {
        "id": "15a0b819",
        "outputId": "da380a76-7e38-4320-cb31-bbb967869f4c"
      },
      "outputs": [
        {
          "data": {
            "text/plain": [
              "(torch.Size([228146, 3]), torch.int64, torch.Size([228146]), torch.int64)"
            ]
          },
          "execution_count": 85,
          "metadata": {},
          "output_type": "execute_result"
        }
      ],
      "source": [
        "n_dim = 2 #embedding dimensions\n",
        "block_size = 3 # context length i.e. num of character used to predict the next character\n",
        "hu = 100 # num of hidden tanh layer units\n",
        "X, Y = [], []\n",
        "\n",
        "for w in words:#[:5]:\n",
        "#     print(w + '.')\n",
        "    context = [0]*block_size\n",
        "    for ch in w + '.':\n",
        "        ix = stoi[ch]\n",
        "        X.append(context)\n",
        "        Y.append(ix)\n",
        "#         print(''.join(itos[i] for i in context), '--->', itos[ix])\n",
        "        context = context[1:] + [ix]\n",
        "\n",
        "\n",
        "X = torch.tensor(X)\n",
        "Y = torch.tensor(Y)\n",
        "X.shape, X.dtype, Y.shape, Y.dtype"
      ]
    },
    {
      "cell_type": "code",
      "execution_count": null,
      "id": "df98c7e5",
      "metadata": {
        "id": "df98c7e5"
      },
      "outputs": [],
      "source": [
        "g = torch.Generator().manual_seed(2147483647)\n",
        "C = torch.randn(27,n_dim,generator=g) # randomized two dimensional embedding for 27 characters"
      ]
    },
    {
      "cell_type": "code",
      "execution_count": null,
      "id": "b3dbfaaa",
      "metadata": {
        "id": "b3dbfaaa",
        "outputId": "200a4c0c-03ab-4e8c-e550-b364f4c1fb83"
      },
      "outputs": [
        {
          "data": {
            "text/plain": [
              "torch.Size([228146, 3, 2])"
            ]
          },
          "execution_count": 87,
          "metadata": {},
          "output_type": "execute_result"
        }
      ],
      "source": [
        "# C[5] or equivalently F.one_hot(torch.tensor(5), num_classes=27).float() @ C\n",
        "# C[[5,6,7]] = C[torch.tensor([5,6,7])] #torch.tensor vs torch.Tensor\n",
        "#C[X].shape = torch.Size([32, 3, 2])\n",
        "# X[13,2] = 1 => C[X][13,2] = C[1]\n",
        "emb = C[X]\n",
        "emb.shape"
      ]
    },
    {
      "cell_type": "code",
      "execution_count": null,
      "id": "78588f5f",
      "metadata": {
        "id": "78588f5f",
        "outputId": "0e2b8925-f044-4412-f1ac-827a3c4da3c5"
      },
      "outputs": [
        {
          "data": {
            "text/plain": [
              "(torch.Size([6, 100]), torch.Size([100]))"
            ]
          },
          "execution_count": 88,
          "metadata": {},
          "output_type": "execute_result"
        }
      ],
      "source": [
        "W1 = torch.randn((block_size*n_dim,hu),generator=g)\n",
        "b1 = torch.randn(hu,generator=g)\n",
        "W1.shape, b1.shape\n"
      ]
    },
    {
      "cell_type": "code",
      "execution_count": null,
      "id": "15c1ebd5",
      "metadata": {
        "id": "15c1ebd5",
        "outputId": "4053c2a6-f3d6-4230-8021-259c4cf730d2"
      },
      "outputs": [
        {
          "data": {
            "text/plain": [
              "(torch.Size([100, 27]), torch.Size([27]))"
            ]
          },
          "execution_count": 89,
          "metadata": {},
          "output_type": "execute_result"
        }
      ],
      "source": [
        "W2 = torch.randn((hu,27),generator=g)\n",
        "b2 = torch.randn(27,generator=g)\n",
        "W2.shape, b2.shape\n"
      ]
    },
    {
      "cell_type": "code",
      "execution_count": null,
      "id": "ae86b38e",
      "metadata": {
        "id": "ae86b38e",
        "outputId": "8ae709f6-8424-4138-b549-c92dd5c4ab2e"
      },
      "outputs": [
        {
          "name": "stdout",
          "output_type": "stream",
          "text": [
            "3481\n"
          ]
        }
      ],
      "source": [
        "parameters = [C, W1, b1, W2, b2]\n",
        "\n",
        "print(sum(p.nelement() for p in parameters))"
      ]
    },
    {
      "cell_type": "code",
      "execution_count": null,
      "id": "429d49e0",
      "metadata": {
        "id": "429d49e0"
      },
      "outputs": [],
      "source": [
        "for p in parameters:\n",
        "    p.requires_grad = True"
      ]
    },
    {
      "cell_type": "code",
      "execution_count": null,
      "id": "b3898a26",
      "metadata": {
        "id": "b3898a26"
      },
      "outputs": [],
      "source": [
        "lre = torch.linspace(-3,0,1000)\n",
        "lrs = 10**lre"
      ]
    },
    {
      "cell_type": "code",
      "execution_count": null,
      "id": "d8293425",
      "metadata": {
        "id": "d8293425",
        "outputId": "9aa61f1f-4e3b-4cee-83bf-58a34bf5a174"
      },
      "outputs": [
        {
          "name": "stdout",
          "output_type": "stream",
          "text": [
            "epc: 0 loss: 2.360083818435669\n",
            "epc: 100 loss: 2.6191487312316895\n",
            "epc: 200 loss: 2.189039707183838\n",
            "epc: 300 loss: 2.1864209175109863\n",
            "epc: 400 loss: 2.3310015201568604\n",
            "epc: 500 loss: 2.5891337394714355\n",
            "epc: 600 loss: 2.3867485523223877\n",
            "epc: 700 loss: 2.5220494270324707\n",
            "epc: 800 loss: 2.202450752258301\n",
            "epc: 900 loss: 2.6760952472686768\n"
          ]
        }
      ],
      "source": [
        "lri = []\n",
        "lossi = []\n",
        "for epc in range(1000):\n",
        "\n",
        "    ix  = torch.randint(0,X.shape[0], (32,),generator=g) # minibatch\n",
        "    emb = C[X[ix]] #[32, 3, 2]\n",
        "    emb = emb.view(-1,block_size*n_dim) #== torch.cat(torch.unbind(emb,1),dim=1) == torch.cat([emb[:,i,:] for i in range(block_size)],dim=1)\n",
        "    h = torch.tanh(emb@W1 + b1) # see below or refer to broadcasting rules\n",
        "    # h.shape\n",
        "    # 32, 100\n",
        "    # 1,  100\n",
        "    logits = h@W2 + b2\n",
        "    # count = logits.exp()\n",
        "    # probs = count/count.sum(1, keepdims=True)\n",
        "    # loss = -probs[torch.arange(32), Y].log().mean()\n",
        "    loss = F.cross_entropy(logits, Y[ix]) # Efficient Forward and Backward pass; Also, prevent overflow due to exponentiation of large logits\n",
        "    if epc%100==0:\n",
        "        print('epc:', epc, 'loss:', loss.item())\n",
        "\n",
        "    for p in parameters:\n",
        "        p.grad = None\n",
        "    loss.backward()\n",
        "\n",
        "    lr = 0.001 #lrs[epc]\n",
        "\n",
        "    for p in parameters:\n",
        "        p.data += -lr*p.grad\n",
        "\n",
        "    lri.append(lr)\n",
        "    lossi.append(loss.item())\n"
      ]
    },
    {
      "cell_type": "code",
      "execution_count": null,
      "id": "1b8fbc6a",
      "metadata": {
        "id": "1b8fbc6a",
        "outputId": "15934446-4aa3-482f-9562-873eeba29afe"
      },
      "outputs": [
        {
          "data": {
            "text/plain": [
              "[<matplotlib.lines.Line2D at 0x1dc65857780>]"
            ]
          },
          "execution_count": 101,
          "metadata": {},
          "output_type": "execute_result"
        },
        {
          "data": {
            "image/png": "[encoded data removed]",
            "text/plain": [
              "<Figure size 432x288 with 1 Axes>"
            ]
          },
          "metadata": {
            "needs_background": "light"
          },
          "output_type": "display_data"
        }
      ],
      "source": [
        "plt.plot(lossi)"
      ]
    },
    {
      "cell_type": "code",
      "execution_count": null,
      "id": "756c0047",
      "metadata": {
        "id": "756c0047",
        "outputId": "fca233e9-592b-44fb-c968-06cc8231aa61"
      },
      "outputs": [
        {
          "name": "stdout",
          "output_type": "stream",
          "text": [
            "loss: 2.238490581512451\n"
          ]
        }
      ],
      "source": [
        "emb = C[X[ix]] #[32, 3, 2]\n",
        "emb = emb.view(-1,block_size*n_dim)\n",
        "h = torch.tanh(emb@W1 + b1)\n",
        "logits = h@W2 + b2\n",
        "loss = F.cross_entropy(logits, Y[ix])\n",
        "print('loss:', loss.item())\n"
      ]
    },
    {
      "cell_type": "code",
      "execution_count": null,
      "id": "e3829213",
      "metadata": {
        "id": "e3829213",
        "outputId": "9913ffd1-a8c8-414d-86d1-68aefa8a3c41"
      },
      "outputs": [
        {
          "data": {
            "text/plain": [
              "tensor(17.7697)"
            ]
          },
          "execution_count": 12,
          "metadata": {},
          "output_type": "execute_result"
        }
      ],
      "source": []
    },
    {
      "cell_type": "code",
      "execution_count": null,
      "id": "e5a3e95d",
      "metadata": {
        "id": "e5a3e95d"
      },
      "outputs": [],
      "source": []
    },
    {
      "cell_type": "code",
      "execution_count": null,
      "id": "fd154d9c",
      "metadata": {
        "id": "fd154d9c"
      },
      "outputs": [],
      "source": []
    }
  ],
  "metadata": {
    "kernelspec": {
      "display_name": "Python 3",
      "language": "python",
      "name": "python3"
    },
    "language_info": {
      "codemirror_mode": {
        "name": "ipython",
        "version": 3
      },
      "file_extension": ".py",
      "mimetype": "text/x-python",
      "name": "python",
      "nbconvert_exporter": "python",
      "pygments_lexer": "ipython3",
      "version": "3.7.1"
    },
    "colab": {
      "provenance": [],
      "include_colab_link": true
    }
  },
  "nbformat": 4,
  "nbformat_minor": 5
}