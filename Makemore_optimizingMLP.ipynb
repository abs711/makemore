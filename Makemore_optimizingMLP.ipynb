{
  "nbformat": 4,
  "nbformat_minor": 0,
  "metadata": {
    "colab": {
      "provenance": [],
      "authorship_tag": "ABX9TyObwIIXHJeOmeeEc0HxDmDP",
      "include_colab_link": true
    },
    "kernelspec": {
      "name": "python3",
      "display_name": "Python 3"
    },
    "language_info": {
      "name": "python"
    }
  },
  "cells": [
    {
      "cell_type": "markdown",
      "metadata": {
        "id": "view-in-github",
        "colab_type": "text"
      },
      "source": [
        "<a href=\"https://colab.research.google.com/github/abs711/makemore/blob/master/Makemore_optimizingMLP.ipynb\" target=\"_parent\"><img src=\"https://colab.research.google.com/assets/colab-badge.svg\" alt=\"Open In Colab\"/></a>"
      ]
    },
    {
      "cell_type": "code",
      "execution_count": 1,
      "metadata": {
        "id": "5plJqi7wQkfh"
      },
      "outputs": [],
      "source": [
        "import random\n",
        "import torch\n",
        "import torch.nn.functional as F\n",
        "import matplotlib.pyplot as plt\n",
        "%matplotlib inline"
      ]
    },
    {
      "cell_type": "code",
      "source": [
        "from google.colab import drive\n",
        "drive.mount('/content/drive')"
      ],
      "metadata": {
        "colab": {
          "base_uri": "https://localhost:8080/"
        },
        "id": "K-5fwhDyRhwI",
        "outputId": "4968bb21-10a6-4abb-87c2-617fd32063f7"
      },
      "execution_count": 2,
      "outputs": [
        {
          "output_type": "stream",
          "name": "stdout",
          "text": [
            "Drive already mounted at /content/drive; to attempt to forcibly remount, call drive.mount(\"/content/drive\", force_remount=True).\n"
          ]
        }
      ]
    },
    {
      "cell_type": "code",
      "source": [
        "path = '/content/drive/MyDrive/build_makemore/'\n",
        "\n",
        "import os\n",
        "\n",
        "os.listdir('./drive/MyDrive/build_makemore')\n",
        "\n",
        "\n",
        "words = open(path+'names.txt','r').read().splitlines()\n",
        "words[:5]"
      ],
      "metadata": {
        "colab": {
          "base_uri": "https://localhost:8080/"
        },
        "id": "cMRVP3nYRlxc",
        "outputId": "5ac1f6de-1b70-4c91-e45a-d1708f1db312"
      },
      "execution_count": 3,
      "outputs": [
        {
          "output_type": "execute_result",
          "data": {
            "text/plain": [
              "['emma', 'olivia', 'ava', 'isabella', 'sophia']"
            ]
          },
          "metadata": {},
          "execution_count": 3
        }
      ]
    },
    {
      "cell_type": "code",
      "source": [
        "len(words)"
      ],
      "metadata": {
        "colab": {
          "base_uri": "https://localhost:8080/"
        },
        "id": "KLtvDhRyeMiv",
        "outputId": "d24956aa-df7b-48da-c570-1296eef92b61"
      },
      "execution_count": 4,
      "outputs": [
        {
          "output_type": "execute_result",
          "data": {
            "text/plain": [
              "32033"
            ]
          },
          "metadata": {},
          "execution_count": 4
        }
      ]
    },
    {
      "cell_type": "code",
      "source": [
        "chars = sorted(list(set(''.join(words)))) # Get all the characters\n",
        "stoi = {s:i+1 for i,s in enumerate(chars)} #string to integer\n",
        "stoi['.'] = 0\n",
        "itos = {i:s for s,i in stoi.items()}\n",
        "\n",
        "n_chars = len(itos)\n"
      ],
      "metadata": {
        "id": "GPzf44VLRxDa"
      },
      "execution_count": 5,
      "outputs": []
    },
    {
      "cell_type": "code",
      "source": [
        "n_dim = 10 #embedding dimensions\n",
        "block_size = 3 # context length i.e. num of character used to predict the next character\n",
        "hu = 300 # num of hidden tanh layer units\n",
        "\n",
        "def build_dataset(words,block_size):\n",
        "  X, Y = [], []\n",
        "\n",
        "  for w in words:#[:5]:\n",
        "  #     print(w + '.')\n",
        "      context = [0] * block_size\n",
        "      for ch in w + '.':\n",
        "          ix = stoi[ch]\n",
        "          X.append(context)\n",
        "          Y.append(ix)\n",
        "  #         print(''.join(itos[i] for i in context), '--->', itos[ix])\n",
        "          context = context[1:] + [ix]\n",
        "\n",
        "\n",
        "  X = torch.tensor(X)\n",
        "  Y = torch.tensor(Y)\n",
        "\n",
        "  print(X.shape, X.dtype, Y.shape, Y.dtype)\n",
        "\n",
        "  return X, Y\n",
        "\n",
        "random.seed(42)\n",
        "random.shuffle(words)\n",
        "\n",
        "ntr = int(0.8*len(words))\n",
        "nval = int(0.9*len(words))\n",
        "\n",
        "Xtr, Ytr = build_dataset(words[:ntr],block_size)\n",
        "Xval, Yval = build_dataset(words[ntr:nval],block_size)\n",
        "Xts, Yts = build_dataset(words[nval:],block_size)\n"
      ],
      "metadata": {
        "colab": {
          "base_uri": "https://localhost:8080/"
        },
        "id": "R8zenoekRx2W",
        "outputId": "074c468a-69b2-4b66-8fd7-2fad920c0124"
      },
      "execution_count": 6,
      "outputs": [
        {
          "output_type": "stream",
          "name": "stdout",
          "text": [
            "torch.Size([182625, 3]) torch.int64 torch.Size([182625]) torch.int64\n",
            "torch.Size([22655, 3]) torch.int64 torch.Size([22655]) torch.int64\n",
            "torch.Size([22866, 3]) torch.int64 torch.Size([22866]) torch.int64\n"
          ]
        }
      ]
    },
    {
      "cell_type": "code",
      "source": [
        "# g = torch.Generator().manual_seed(2147483647)\n",
        "# C = torch.randn(n_chars,n_dim,generator=g) # randomized two dimensional embedding for 27 characters"
      ],
      "metadata": {
        "id": "vfJbd-S7R9rU"
      },
      "execution_count": 7,
      "outputs": []
    },
    {
      "cell_type": "code",
      "source": [
        "## C[5] or equivalently F.one_hot(torch.tensor(5), num_classes=27).float() @ C\n",
        "## C[[5,6,7]] = C[torch.tensor([5,6,7])] #torch.tensor vs torch.Tensor\n",
        "## C[X].shape = torch.Size([32, 3, 2])\n",
        "## X[13,2] = 1 => C[X][13,2] = C[1]\n",
        "\n",
        "# emb = C[Xtr]\n",
        "# emb.shape"
      ],
      "metadata": {
        "id": "vKax4hBjSCP6"
      },
      "execution_count": 8,
      "outputs": []
    },
    {
      "cell_type": "code",
      "source": [
        "class MLP:\n",
        "  def __init__(self, n_chars, n_dim,block_size,hu):\n",
        "    g = torch.Generator().manual_seed(2147483647)\n",
        "    self.C = torch.randn(n_chars,n_dim,generator=g)\n",
        "    self.W1 = torch.randn((block_size*n_dim,hu),generator=g) * (5/3)/((block_size*n_dim)**0.5) # gain/fan_in\n",
        "    self.b1 = torch.randn(hu,generator=g) * 0.01\n",
        "    self.W1.shape, self.b1.shape\n",
        "\n",
        "    self.W2 = torch.randn((hu,n_chars),generator=g) * 0.01\n",
        "    self.b2 = torch.randn(n_chars,generator=g) * 0\n",
        "    self.W2.shape, self.b2.shape\n",
        "\n",
        "    self.bngain = torch.ones((1,hu)) #batchnorm_gain\n",
        "    self.bnbias = torch.ones((1,hu)) #batchnorm_bias\n",
        "\n",
        "    self.parameters = [self.C, self.W1, self.b1, self.W2, self.b2, self.bngain, self.bnbias]\n",
        "\n",
        "    self.bnmean_running = torch.zeros((1,hu))\n",
        "    self.bnstd_running = torch.ones((1,hu))\n",
        "\n",
        "    self.bnmean = None\n",
        "    self.bnstd = None\n",
        "\n",
        "    print(\"number of parameters\", sum(p.nelement() for p in self.parameters))\n",
        "\n",
        "\n",
        "    for p in self.parameters:\n",
        "        p.requires_grad = True\n",
        "\n",
        "    self.inside_info = None # storing activations\n",
        "    # return g, C, W1, b1, W2, b2, bngain, bnbias, parameters\n",
        "\n",
        "  def zero_grad(self):\n",
        "    for p in self.parameters:\n",
        "      p.grad = None\n",
        "\n",
        "  def update_params(self, lr):\n",
        "    for p in self.parameters:\n",
        "      p.data += -lr*p.grad\n",
        "\n",
        "\n",
        "  def forward_pass(self,X, mode, epc):\n",
        "\n",
        "    emb = self.C[X] #[32, 3, 2]\n",
        "\n",
        "    embcat = emb.view(-1,block_size*n_dim) #== torch.cat(torch.unbind(emb,1),dim=1) == torch.cat([emb[:,i,:] for i in range(block_size)],dim=1)\n",
        "\n",
        "    hpreact = embcat @ self.W1 + self.b1\n",
        "    if mode == 'train':\n",
        "      bnmeani = hpreact.mean(0,keepdim=True)\n",
        "      bnstdi = hpreact.std(0,keepdim=True)\n",
        "      #batchnorm_layer\n",
        "      hpreact = self.bngain*(hpreact-bnmeani)/bnstdi + self.bnbias\n",
        "      with torch.no_grad():\n",
        "        self.bnmean_running = 0.999 * self.bnmean_running + 0.001 *bnmeani\n",
        "        self.bnstd_running = 0.999 * self.bnstd_running + 0.001 * bnstdi\n",
        "\n",
        "      h = torch.tanh(hpreact) # see below or refer to broadcasting rules\n",
        "      # h.shape\n",
        "      # 32, 100\n",
        "      # 1,  100\n",
        "      logits = h @ self.W2 + self.b2\n",
        "\n",
        "\n",
        "\n",
        "    else:\n",
        "\n",
        "      if self.bnmean == None or self.bnstd == None:\n",
        "        print('Set batch norm mean and std')\n",
        "      else:\n",
        "        hpreact = self.bngain*(hpreact-self.bnmean)/self.bnstd + self.bnbias\n",
        "        h = torch.tanh(hpreact) # see below or refer to broadcasting rules\n",
        "      # h.shape\n",
        "      # 32, 100\n",
        "      # 1,  100\n",
        "        logits = h @ self.W2 + self.b2\n",
        "\n",
        "    self.inside_info = {'emb':emb, 'hpreact': hpreact, 'h': h}\n",
        "\n",
        "    return logits, self.inside_info\n"
      ],
      "metadata": {
        "id": "eBGJkZpOSEpJ"
      },
      "execution_count": 183,
      "outputs": []
    },
    {
      "cell_type": "code",
      "source": [
        "# lre = torch.linspace(-3,0,1000)\n",
        "# lrs = 10**lre\n",
        "\n",
        "# lri = []\n",
        "# lossi = []\n",
        "# loss_val = []"
      ],
      "metadata": {
        "id": "rVseok8pVLT0"
      },
      "execution_count": 184,
      "outputs": []
    },
    {
      "cell_type": "code",
      "source": [
        "lossi = []\n",
        "loss_val = []\n",
        "model = MLP(n_chars, n_dim,block_size,hu)\n",
        "max_steps = 2000\n",
        "batch_size = 32\n",
        "\n",
        "for epc in range(max_steps):\n",
        "\n",
        "    ix  = torch.randint(0,Xtr.shape[0], (batch_size,)) # minibatch\n",
        "    logits, _ = model.forward_pass(Xtr[ix], 'train', epc)\n",
        "    loss = F.cross_entropy(logits, Ytr[ix]) # Efficient Forward and Backward pass; Also, prevent overflow due to exponentiation of large logits\n",
        "\n",
        "    model.zero_grad()\n",
        "\n",
        "    loss.backward()\n",
        "\n",
        "    lr = 0.1 if epc < 1000 else 0.01 ##lrs[epc]\n",
        "\n",
        "    model.update_params(lr)\n",
        "\n",
        "    # logits_val, _ = model.forward_pass(Xval, 'eval', epc)\n",
        "    # loss_dev = F.cross_entropy(logits_val, Yval)\n",
        "    if epc%100==0:\n",
        "      print('epc:', epc, 'loss:', loss.item(), 'val_loss:', 'Update bnmean and bnstd')\n",
        "      # print('epc:', epc, 'loss.log10:', loss.log10().item(), 'val_loss.log10:', loss_dev.log10().item())\n",
        "\n",
        "    # lri.append(lr)\n",
        "    lossi.append(loss.log10().item())\n",
        "    # loss_val.append(loss_dev.log10().item())\n",
        "    # break"
      ],
      "metadata": {
        "colab": {
          "base_uri": "https://localhost:8080/"
        },
        "id": "t0FQiLvTVNqM",
        "outputId": "d4ce5200-3d38-44f2-b68c-7857afb60b17"
      },
      "execution_count": 185,
      "outputs": [
        {
          "output_type": "stream",
          "name": "stdout",
          "text": [
            "number of parameters 18297\n",
            "epc: 0 loss: 3.319127082824707 val_loss: Update bnmean and bnstd\n",
            "epc: 100 loss: 2.677722692489624 val_loss: Update bnmean and bnstd\n",
            "epc: 200 loss: 2.3679914474487305 val_loss: Update bnmean and bnstd\n",
            "epc: 300 loss: 2.687934160232544 val_loss: Update bnmean and bnstd\n",
            "epc: 400 loss: 2.2534685134887695 val_loss: Update bnmean and bnstd\n",
            "epc: 500 loss: 2.680274724960327 val_loss: Update bnmean and bnstd\n",
            "epc: 600 loss: 2.8421382904052734 val_loss: Update bnmean and bnstd\n",
            "epc: 700 loss: 2.553013324737549 val_loss: Update bnmean and bnstd\n",
            "epc: 800 loss: 2.9693844318389893 val_loss: Update bnmean and bnstd\n",
            "epc: 900 loss: 2.4850149154663086 val_loss: Update bnmean and bnstd\n",
            "epc: 1000 loss: 2.6958820819854736 val_loss: Update bnmean and bnstd\n",
            "epc: 1100 loss: 1.964436650276184 val_loss: Update bnmean and bnstd\n",
            "epc: 1200 loss: 2.2661490440368652 val_loss: Update bnmean and bnstd\n",
            "epc: 1300 loss: 2.294889450073242 val_loss: Update bnmean and bnstd\n",
            "epc: 1400 loss: 2.283555269241333 val_loss: Update bnmean and bnstd\n",
            "epc: 1500 loss: 2.3527913093566895 val_loss: Update bnmean and bnstd\n",
            "epc: 1600 loss: 2.296273708343506 val_loss: Update bnmean and bnstd\n",
            "epc: 1700 loss: 2.4139130115509033 val_loss: Update bnmean and bnstd\n",
            "epc: 1800 loss: 2.4139516353607178 val_loss: Update bnmean and bnstd\n",
            "epc: 1900 loss: 2.558659076690674 val_loss: Update bnmean and bnstd\n"
          ]
        }
      ]
    },
    {
      "cell_type": "code",
      "source": [
        "plt.plot(lossi)\n",
        "# plt.plot(loss_val)\n",
        "print(\"loss_train: \",10**lossi[-1])\n",
        "# print(\"loss_train: \",lossi[-1],\"loss_val:\", loss_val[-1])"
      ],
      "metadata": {
        "id": "Coo0DssOVQSR",
        "colab": {
          "base_uri": "https://localhost:8080/",
          "height": 447
        },
        "outputId": "06a7b737-39ed-43d5-ca13-a482aebe8cdf"
      },
      "execution_count": 186,
      "outputs": [
        {
          "output_type": "stream",
          "name": "stdout",
          "text": [
            "loss_train:  2.791004190229097\n"
          ]
        },
        {
          "output_type": "display_data",
          "data": {
            "text/plain": [
              "<Figure size 640x480 with 1 Axes>"
            ],
            "image/png": "[encoded data removed]"
          },
          "metadata": {}
        }
      ]
    },
    {
      "cell_type": "code",
      "source": [
        "# calibrate the batchnorm statistics\n",
        "with torch.no_grad():\n",
        "  # pass the training set through\n",
        "  emb = model.C[Xtr] #[32, 3, 2]\n",
        "  embcat = emb.view(-1,block_size*n_dim)\n",
        "  hpreact = embcat @ model.W1 + model.b1\n",
        "  bnmean = hpreact.mean(0, keepdim=True)\n",
        "  bnstd = hpreact.std(0, keepdim=True)"
      ],
      "metadata": {
        "id": "dBaZcLElTLLz"
      },
      "execution_count": 187,
      "outputs": []
    },
    {
      "cell_type": "code",
      "source": [
        "@torch.no_grad()\n",
        "def split_loss(split):\n",
        "  x, y ={'train': (Xtr, Ytr),\n",
        "         'val': (Xval, Yval),\n",
        "         'test': (Xts, Yts)\n",
        "         }[split]\n",
        "  emb = model.C[x] #[32, 3, 2]\n",
        "  embcat = emb.view(-1,block_size*n_dim)\n",
        "  hpreact = embcat @ model.W1 + model.b1\n",
        "\n",
        "  #batchnorm_layer\n",
        "  hpreact = model.bngain*(hpreact-model.bnmean_running) / model.bnstd_running + model.bnbias\n",
        "\n",
        "  h = torch.tanh(hpreact)\n",
        "  logits = h @ model.W2 + model.b2\n",
        "  loss = F.cross_entropy(logits, y)\n",
        "  print(split, 'loss:', loss.item())\n",
        "\n",
        "split_loss('train')\n",
        "split_loss('val')"
      ],
      "metadata": {
        "colab": {
          "base_uri": "https://localhost:8080/"
        },
        "id": "yv1wr-ZauhCJ",
        "outputId": "42a8f17f-f84d-417c-9178-f388cb480797"
      },
      "execution_count": 194,
      "outputs": [
        {
          "output_type": "stream",
          "name": "stdout",
          "text": [
            "train loss: 2.350267171859741\n",
            "val loss: 2.349581718444824\n"
          ]
        }
      ]
    },
    {
      "cell_type": "code",
      "source": [
        "# diagnostics\n",
        "@torch.no_grad()\n",
        "def diagnostic_run():\n",
        "  model.bnmean, model.bnstd = model.bnmean_running, model.bnstd_running\n",
        "  logits, inside_info = model.forward_pass(Xtr[ix],'eval',0)\n",
        "  VOI = inside_info['hpreact']\n",
        "  plt.hist(VOI.view(-1).tolist(),50)\n",
        "  return VOI\n",
        "voi = diagnostic_run()"
      ],
      "metadata": {
        "colab": {
          "base_uri": "https://localhost:8080/",
          "height": 430
        },
        "id": "6h0Cu_Ckvugl",
        "outputId": "ca02637a-4edc-4cd5-b70b-8f4b47b63fac"
      },
      "execution_count": 195,
      "outputs": [
        {
          "output_type": "display_data",
          "data": {
            "text/plain": [
              "<Figure size 640x480 with 1 Axes>"
            ],
            "image/png": "[encoded data removed]"
          },
          "metadata": {}
        }
      ]
    },
    {
      "cell_type": "code",
      "source": [
        "plt.figure(figsize=(20,10))\n",
        "plt.imshow(voi.abs() > 0.99, cmap='gray',interpolation='nearest')"
      ],
      "metadata": {
        "colab": {
          "base_uri": "https://localhost:8080/",
          "height": 132
        },
        "id": "ZfSDmTQl7rlW",
        "outputId": "99c0b822-4e42-496a-f5ae-ba6cb9bb87e5"
      },
      "execution_count": 197,
      "outputs": [
        {
          "output_type": "execute_result",
          "data": {
            "text/plain": [
              "<matplotlib.image.AxesImage at 0x7b86a362dd80>"
            ]
          },
          "metadata": {},
          "execution_count": 197
        },
        {
          "output_type": "display_data",
          "data": {
            "text/plain": [
              "<Figure size 2000x1000 with 1 Axes>"
            ],
            "image/png": "[encoded data removed]"
          },
          "metadata": {}
        }
      ]
    },
    {
      "cell_type": "code",
      "source": [],
      "metadata": {
        "id": "FXgxjitBBcVa"
      },
      "execution_count": null,
      "outputs": []
    }
  ]
}