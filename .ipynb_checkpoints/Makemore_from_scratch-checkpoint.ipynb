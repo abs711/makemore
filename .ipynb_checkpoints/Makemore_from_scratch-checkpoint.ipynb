{
 "cells": [
  {
   "cell_type": "markdown",
   "id": "17f4c16d",
   "metadata": {},
   "source": [
    "# Makemore: Character level language model"
   ]
  },
  {
   "cell_type": "code",
   "execution_count": null,
   "id": "33f94f39",
   "metadata": {},
   "outputs": [],
   "source": [
    "open('name.txt')"
   ]
  }
 ],
 "metadata": {
  "kernelspec": {
   "display_name": "Python 3",
   "language": "python",
   "name": "python3"
  },
  "language_info": {
   "codemirror_mode": {
    "name": "ipython",
    "version": 3
   },
   "file_extension": ".py",
   "mimetype": "text/x-python",
   "name": "python",
   "nbconvert_exporter": "python",
   "pygments_lexer": "ipython3",
   "version": "3.7.1"
  }
 },
 "nbformat": 4,
 "nbformat_minor": 5
}
